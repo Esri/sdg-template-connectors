{
 "cells": [
  {
   "cell_type": "markdown",
   "metadata": {},
   "source": [
    "# Get DHS Spatial Data\n",
    "This notebook will walk you through the steps for downloading DHS Spatial Boundaries by Survey Id, and publishing them to your ArcGIS Online Organization. \n",
    "\n",
    "It will also output a base configuration in JSON format that you can use in the \"Join CSV SDG Data to Geography\" python notebook as part of configuring your SDG Hub Template."
   ]
  },
  {
   "cell_type": "markdown",
   "metadata": {},
   "source": [
    "### Import the needed python libraries"
   ]
  },
  {
   "cell_type": "code",
   "execution_count": null,
   "metadata": {},
   "outputs": [],
   "source": [
    "import os\n",
    "import requests\n",
    "import json\n",
    "import getpass\n",
    "from os import mkdir\n",
    "from os.path import exists\n",
    "from arcgis import GIS\n",
    "from arcgis.geoprocessing import import_toolbox\n",
    "import ipywidgets as widgets\n",
    "from urllib.request import urlopen\n",
    "from ipywidgets import interact"
   ]
  },
  {
   "cell_type": "markdown",
   "metadata": {},
   "source": [
    "### Select your Country\n",
    "Run this cell to see a drop down list of available countries, then make your selection.\n",
    "\n",
    "After you have made your selection, move on to the next cell and do not re-execute this cell."
   ]
  },
  {
   "cell_type": "code",
   "execution_count": null,
   "metadata": {},
   "outputs": [],
   "source": [
    "countries = json.loads(urlopen('http://api.dhsprogram.com/rest/dhs/countries?f=json').read())\n",
    "id = 0\n",
    "countryList = []\n",
    "for country in countries['Data']:\n",
    "  country_code = country['DHS_CountryCode']\n",
    "  country_name = country['CountryName']\n",
    "  # countryList.append((country_name, country_code))\n",
    "  countryList.append(country_name)\n",
    "  id += 1\n",
    "  \n",
    "selected_country = None\n",
    "def f(Country):\n",
    "  global selected_country\n",
    "  # selectedCountry = Country\n",
    "  # return Country\n",
    "  for item in countries['Data']:\n",
    "    if item['CountryName'] == Country:\n",
    "      selected_country = item['DHS_CountryCode']\n",
    "      return selected_country\n",
    "\n",
    "countries_cb = widgets.Combobox(\n",
    "  # placeholder='Choose Country',\n",
    "  options=countryList,\n",
    "  description='Country',\n",
    "  ensure_option=True,\n",
    "  disabled=False\n",
    ")\n",
    "\n",
    "interact(f, Country=countries_cb)"
   ]
  },
  {
   "cell_type": "markdown",
   "metadata": {},
   "source": [
    "### Select a survey for your selected country\n",
    "After you have made your selection, move on to the next cell and do not re-execute this cell."
   ]
  },
  {
   "cell_type": "code",
   "execution_count": null,
   "metadata": {},
   "outputs": [],
   "source": [
    "surveys = json.loads(urlopen(f'https://previewapi.dhsprogram.com/rest/dhs/surveys/{selected_country}').read())\n",
    "survey_list = []\n",
    "for survey in surveys['Data']:\n",
    "  survey_id = survey['SurveyId']\n",
    "  survey_list.append(survey_id)\n",
    "\n",
    "surveys_sm = widgets.SelectMultiple(\n",
    "  options=survey_list,\n",
    "  description='Surveys',\n",
    "  disabled=False\n",
    ")\n",
    "\n",
    "selected_surveys = []\n",
    "def sm_f(SurveyName):\n",
    "  return SurveyName\n",
    "  \n",
    "interact(sm_f, SurveyName=surveys_sm)"
   ]
  },
  {
   "cell_type": "markdown",
   "metadata": {},
   "source": [
    "Reformat the information"
   ]
  },
  {
   "cell_type": "code",
   "execution_count": null,
   "metadata": {},
   "outputs": [],
   "source": [
    "# [['ZM', ['ZM2018DHS']]]\n",
    "user_input = [[selected_country, list(surveys_sm.value)]]\n",
    "user_input"
   ]
  },
  {
   "cell_type": "markdown",
   "metadata": {},
   "source": [
    "### Setup the GP Service for downloading the Country Shapefiles\n",
    "DHS provides shapefiles for each corresponding survey. This GP Service is used to download the shapefiles"
   ]
  },
  {
   "cell_type": "code",
   "execution_count": null,
   "metadata": {},
   "outputs": [],
   "source": [
    "gp_url = 'https://gis.dhsprogram.com/arcgis/rest/services/Tools/DownloadSubnationalData/GPServer/downloadSubNationalBoundaries'\n",
    "tbx = import_toolbox(gp_url)"
   ]
  },
  {
   "cell_type": "markdown",
   "metadata": {},
   "source": [
    "Helper function to build reference information for each survey"
   ]
  },
  {
   "cell_type": "code",
   "execution_count": null,
   "metadata": {},
   "outputs": [],
   "source": [
    "def get_survey_ids():\n",
    "  country_code = user_input[0][0]\n",
    "  surveys = [sid for sid in user_input[0][1]]\n",
    "  survey_ids = ','.join(surveys)\n",
    "  req_url = f'https://api.dhsprogram.com/rest/dhs/surveys/{country_code}?surveyIds={survey_ids}'\n",
    "\n",
    "  res = requests.get(req_url).json()\n",
    "  if res['RecordsReturned'] == 0:\n",
    "    raise(f'no survey ids found for URL :: {req_url}')\n",
    "\n",
    "  survey_info = [{'SurveyNum': rec['SurveyNum'], 'CountryCode': country_code, 'SurveyId': surveys[a]} for a,rec in enumerate(res['Data'])]\n",
    "\n",
    "  return survey_info"
   ]
  },
  {
   "cell_type": "markdown",
   "metadata": {},
   "source": [
    "Helper function to make directories"
   ]
  },
  {
   "cell_type": "code",
   "execution_count": null,
   "metadata": {},
   "outputs": [],
   "source": [
    "def clear_and_make_dir(path):\n",
    "  if exists(path):\n",
    "      from shutil import rmtree\n",
    "      rmtree(path)\n",
    "  mkdir(path)"
   ]
  },
  {
   "cell_type": "markdown",
   "metadata": {},
   "source": [
    "Set the current working directory for downloading the shapefiles"
   ]
  },
  {
   "cell_type": "code",
   "execution_count": null,
   "metadata": {},
   "outputs": [],
   "source": [
    "# if you are running this notebook in ArcGIS Online\n",
    "base_directory = '/arcgis/home'"
   ]
  },
  {
   "cell_type": "code",
   "execution_count": null,
   "metadata": {},
   "outputs": [],
   "source": [
    "download_path = f'{base_directory}/shapefiles'\n",
    "clear_and_make_dir(f'{download_path}')"
   ]
  },
  {
   "cell_type": "markdown",
   "metadata": {},
   "source": [
    "### Download a shapefile for each survey"
   ]
  },
  {
   "cell_type": "code",
   "execution_count": null,
   "metadata": {},
   "outputs": [],
   "source": [
    "survey_info = get_survey_ids()\n",
    "spatial_format = 'shp'\n",
    "\n",
    "for survey in survey_info:\n",
    "    result = tbx.download_sub_national_boundaries(survey_ids=survey['SurveyNum'], spatial_format=spatial_format)\n",
    "    country_code = survey['CountryCode']\n",
    "    survey_id = survey['SurveyId']\n",
    "    file_name =  f'{country_code}_{survey_id}'\n",
    "    file_path = download_path + f'/{file_name}'\n",
    "\n",
    "    result.result.download(save_path=file_path)\n",
    "\n",
    "    rurl = result.result.url\n",
    "    start = rurl.rindex('/')+1\n",
    "    zip_file_name = rurl[start:]\n",
    "    os.rename(os.path.join(file_path, zip_file_name), os.path.join(file_path,f'{file_name}.zip'))\n",
    "    survey['shapefile_path'] = file_path + f'/{file_name}.zip'"
   ]
  },
  {
   "cell_type": "markdown",
   "metadata": {},
   "source": [
    "### Connect to your ArcGIS Online Organization"
   ]
  },
  {
   "cell_type": "code",
   "execution_count": null,
   "metadata": {},
   "outputs": [],
   "source": [
    "# use if you are running in a hosted notebook in ArcGIS Online\n",
    "gis = GIS('home')\n",
    "\n",
    "# use if you are running a notebook on your local machine in your own python environment\n",
    "# username = input(\"Enter a built-in user name with access to SDG Solution items: \")\n",
    "# password = getpass.getpass('Enter your password: ')\n",
    "# gis = GIS('https://www.arcgis.com', username, password)"
   ]
  },
  {
   "cell_type": "markdown",
   "metadata": {},
   "source": [
    "### Publish each shapefile to ArcGIS Online\n",
    "This cell will also build a `geography_config` variable that can be used in the \"Join CSV SDG Data to Geography\" python notebook."
   ]
  },
  {
   "cell_type": "code",
   "execution_count": null,
   "metadata": {},
   "outputs": [],
   "source": [
    "geography_config = []\n",
    "for info in survey_info:\n",
    "    shp_path = info['shapefile_path']\n",
    "    survey_name = info['SurveyId']\n",
    "    print(f'uploading shapefile for :: {survey_name}')\n",
    "\n",
    "    item_properties = {\n",
    "    'title': survey_name\n",
    "    }\n",
    "\n",
    "    shp_item = gis.content.add(item_properties=item_properties, data=info['shapefile_path'])\n",
    "    print(f'publishing shapefile for :: {survey_name} ...')\n",
    "    published_shp = shp_item.publish()\n",
    "    print(f'successfully published shapefile for :: {survey_name}')\n",
    "\n",
    "    layer_counter = 0\n",
    "    country_code = info['CountryCode']\n",
    "    for layer in published_shp.layers:\n",
    "        config = {\n",
    "          'name': f'{country_code}_{survey_name}_{layer_counter}',\n",
    "          'itemId': published_shp.id,\n",
    "          'layerId': layer_counter,\n",
    "          'joinField': {\n",
    "            'name': 'REG_ID',\n",
    "            'type': 'string'\n",
    "          }\n",
    "        }\n",
    "\n",
    "        geography_config.append(config)\n",
    "        layer_counter += 1\n",
    "        \n",
    "print('done publishing shapefiles')"
   ]
  },
  {
   "cell_type": "markdown",
   "metadata": {},
   "source": [
    "### Print out the `geography_config`\n",
    "Execute this cell and then copy and paste the output in your \"Join CSV SDG Data to Geography\" python notebook."
   ]
  },
  {
   "cell_type": "code",
   "execution_count": null,
   "metadata": {},
   "outputs": [],
   "source": [
    "print('geography_config = ' + json.dumps(geography_config, indent=4))"
   ]
  },
  {
   "cell_type": "code",
   "execution_count": null,
   "metadata": {},
   "outputs": [],
   "source": []
  }
 ],
 "metadata": {
  "kernelspec": {
   "display_name": "Python 3 (ipykernel)",
   "language": "python",
   "name": "python3"
  },
  "language_info": {
   "codemirror_mode": {
    "name": "ipython",
    "version": 3
   },
   "file_extension": ".py",
   "mimetype": "text/x-python",
   "name": "python",
   "nbconvert_exporter": "python",
   "pygments_lexer": "ipython3",
   "version": "3.8.5"
  },
  "vscode": {
   "interpreter": {
    "hash": "7506eb7749ec925e26297f6bb359b014fe11638d3184b88e2b8ce8d755dc6e90"
   }
  }
 },
 "nbformat": 4,
 "nbformat_minor": 2
}
